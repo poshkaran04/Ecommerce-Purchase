{
 "cells": [
  {
   "cell_type": "code",
   "execution_count": 1,
   "metadata": {},
   "outputs": [],
   "source": [
    "import pandas as pd"
   ]
  },
  {
   "cell_type": "code",
   "execution_count": 6,
   "metadata": {},
   "outputs": [],
   "source": [
    "data = pd.read_csv('Ecommerce Purchases.csv')"
   ]
  },
  {
   "cell_type": "code",
   "execution_count": 7,
   "metadata": {},
   "outputs": [],
   "source": [
    "#Top 10\n",
    "data.head(10)"
   ]
  },
  {
   "cell_type": "code",
   "execution_count": 9,
   "metadata": {
    "collapsed": true
   },
   "outputs": [
    {
     "data": {
      "text/html": [
       "<div>\n",
       "<style scoped>\n",
       "    .dataframe tbody tr th:only-of-type {\n",
       "        vertical-align: middle;\n",
       "    }\n",
       "\n",
       "    .dataframe tbody tr th {\n",
       "        vertical-align: top;\n",
       "    }\n",
       "\n",
       "    .dataframe thead th {\n",
       "        text-align: right;\n",
       "    }\n",
       "</style>\n",
       "<table border=\"1\" class=\"dataframe\">\n",
       "  <thead>\n",
       "    <tr style=\"text-align: right;\">\n",
       "      <th></th>\n",
       "      <th>Address</th>\n",
       "      <th>Lot</th>\n",
       "      <th>AM or PM</th>\n",
       "      <th>Browser Info</th>\n",
       "      <th>Company</th>\n",
       "      <th>Credit Card</th>\n",
       "      <th>CC Exp Date</th>\n",
       "      <th>CC Security Code</th>\n",
       "      <th>CC Provider</th>\n",
       "      <th>Email</th>\n",
       "      <th>Job</th>\n",
       "      <th>IP Address</th>\n",
       "      <th>Language</th>\n",
       "      <th>Purchase Price</th>\n",
       "    </tr>\n",
       "  </thead>\n",
       "  <tbody>\n",
       "    <tr>\n",
       "      <th>9990</th>\n",
       "      <td>75731 Molly Springs\\nWest Danielle, VT 96934-5102</td>\n",
       "      <td>93 ty</td>\n",
       "      <td>PM</td>\n",
       "      <td>Mozilla/5.0 (Macintosh; Intel Mac OS X 10_7_4;...</td>\n",
       "      <td>Pace, Vazquez and Richards</td>\n",
       "      <td>869968197049750</td>\n",
       "      <td>04/24</td>\n",
       "      <td>877</td>\n",
       "      <td>JCB 15 digit</td>\n",
       "      <td>andersonmichael@sherman.biz</td>\n",
       "      <td>Early years teacher</td>\n",
       "      <td>54.170.3.185</td>\n",
       "      <td>ru</td>\n",
       "      <td>18.35</td>\n",
       "    </tr>\n",
       "    <tr>\n",
       "      <th>9991</th>\n",
       "      <td>PSC 8165, Box 8498\\nAPO AP 60327-0346</td>\n",
       "      <td>50 dA</td>\n",
       "      <td>AM</td>\n",
       "      <td>Mozilla/5.0 (compatible; MSIE 8.0; Windows NT ...</td>\n",
       "      <td>Snyder Inc</td>\n",
       "      <td>4221582137197481</td>\n",
       "      <td>02/24</td>\n",
       "      <td>969</td>\n",
       "      <td>Voyager</td>\n",
       "      <td>kking@wise-liu.com</td>\n",
       "      <td>IT sales professional</td>\n",
       "      <td>254.25.31.156</td>\n",
       "      <td>el</td>\n",
       "      <td>25.93</td>\n",
       "    </tr>\n",
       "    <tr>\n",
       "      <th>9992</th>\n",
       "      <td>885 Allen Mountains Apt. 230\\nWallhaven, LA 16995</td>\n",
       "      <td>40 vH</td>\n",
       "      <td>PM</td>\n",
       "      <td>Mozilla/5.0 (Macintosh; PPC Mac OS X 10_6_5) A...</td>\n",
       "      <td>Wells Ltd</td>\n",
       "      <td>4664825258997302</td>\n",
       "      <td>10/20</td>\n",
       "      <td>431</td>\n",
       "      <td>Discover</td>\n",
       "      <td>bberry@wright.net</td>\n",
       "      <td>Set designer</td>\n",
       "      <td>174.173.51.32</td>\n",
       "      <td>de</td>\n",
       "      <td>67.96</td>\n",
       "    </tr>\n",
       "    <tr>\n",
       "      <th>9993</th>\n",
       "      <td>7555 Larson Locks Suite 229\\nEllisburgh, MA 34...</td>\n",
       "      <td>72 jg</td>\n",
       "      <td>PM</td>\n",
       "      <td>Mozilla/5.0 (Macintosh; U; Intel Mac OS X 10_8...</td>\n",
       "      <td>Colon and Sons</td>\n",
       "      <td>30025560104631</td>\n",
       "      <td>10/25</td>\n",
       "      <td>629</td>\n",
       "      <td>Maestro</td>\n",
       "      <td>chelseawilliams@lopez.biz</td>\n",
       "      <td>Designer, exhibition/display</td>\n",
       "      <td>177.46.82.128</td>\n",
       "      <td>el</td>\n",
       "      <td>65.61</td>\n",
       "    </tr>\n",
       "    <tr>\n",
       "      <th>9994</th>\n",
       "      <td>6276 Rojas Hollow\\nLake Louis, WY 56410-7837</td>\n",
       "      <td>93 Ex</td>\n",
       "      <td>PM</td>\n",
       "      <td>Opera/9.68.(X11; Linux x86_64; sl-SI) Presto/2...</td>\n",
       "      <td>Ritter-Smith</td>\n",
       "      <td>3112186784121077</td>\n",
       "      <td>01/25</td>\n",
       "      <td>1823</td>\n",
       "      <td>Maestro</td>\n",
       "      <td>iroberts@gmail.com</td>\n",
       "      <td>Education officer, museum</td>\n",
       "      <td>242.44.112.18</td>\n",
       "      <td>zh</td>\n",
       "      <td>31.85</td>\n",
       "    </tr>\n",
       "    <tr>\n",
       "      <th>9995</th>\n",
       "      <td>966 Castaneda Locks\\nWest Juliafurt, CO 96415</td>\n",
       "      <td>92 XI</td>\n",
       "      <td>PM</td>\n",
       "      <td>Mozilla/5.0 (Windows NT 5.1) AppleWebKit/5352 ...</td>\n",
       "      <td>Randall-Sloan</td>\n",
       "      <td>342945015358701</td>\n",
       "      <td>03/22</td>\n",
       "      <td>838</td>\n",
       "      <td>JCB 15 digit</td>\n",
       "      <td>iscott@wade-garner.com</td>\n",
       "      <td>Printmaker</td>\n",
       "      <td>29.73.197.114</td>\n",
       "      <td>it</td>\n",
       "      <td>82.21</td>\n",
       "    </tr>\n",
       "    <tr>\n",
       "      <th>9996</th>\n",
       "      <td>832 Curtis Dam Suite 785\\nNorth Edwardburgh, T...</td>\n",
       "      <td>41 JY</td>\n",
       "      <td>AM</td>\n",
       "      <td>Mozilla/5.0 (compatible; MSIE 9.0; Windows NT ...</td>\n",
       "      <td>Hale, Collins and Wilson</td>\n",
       "      <td>210033169205009</td>\n",
       "      <td>07/25</td>\n",
       "      <td>207</td>\n",
       "      <td>JCB 16 digit</td>\n",
       "      <td>mary85@hotmail.com</td>\n",
       "      <td>Energy engineer</td>\n",
       "      <td>121.133.168.51</td>\n",
       "      <td>pt</td>\n",
       "      <td>25.63</td>\n",
       "    </tr>\n",
       "    <tr>\n",
       "      <th>9997</th>\n",
       "      <td>Unit 4434 Box 6343\\nDPO AE 28026-0283</td>\n",
       "      <td>74 Zh</td>\n",
       "      <td>AM</td>\n",
       "      <td>Mozilla/5.0 (Macintosh; U; Intel Mac OS X 10_7...</td>\n",
       "      <td>Anderson Ltd</td>\n",
       "      <td>6011539787356311</td>\n",
       "      <td>05/21</td>\n",
       "      <td>1</td>\n",
       "      <td>VISA 16 digit</td>\n",
       "      <td>tyler16@gmail.com</td>\n",
       "      <td>Veterinary surgeon</td>\n",
       "      <td>156.210.0.254</td>\n",
       "      <td>el</td>\n",
       "      <td>83.98</td>\n",
       "    </tr>\n",
       "    <tr>\n",
       "      <th>9998</th>\n",
       "      <td>0096 English Rest\\nRoystad, IA 12457</td>\n",
       "      <td>74 cL</td>\n",
       "      <td>PM</td>\n",
       "      <td>Mozilla/5.0 (Macintosh; Intel Mac OS X 10_8_8;...</td>\n",
       "      <td>Cook Inc</td>\n",
       "      <td>180003348082930</td>\n",
       "      <td>11/17</td>\n",
       "      <td>987</td>\n",
       "      <td>American Express</td>\n",
       "      <td>elizabethmoore@reid.net</td>\n",
       "      <td>Local government officer</td>\n",
       "      <td>55.78.26.143</td>\n",
       "      <td>es</td>\n",
       "      <td>38.84</td>\n",
       "    </tr>\n",
       "    <tr>\n",
       "      <th>9999</th>\n",
       "      <td>40674 Barrett Stravenue\\nGrimesville, WI 79682</td>\n",
       "      <td>64 Hr</td>\n",
       "      <td>AM</td>\n",
       "      <td>Mozilla/5.0 (X11; Linux i686; rv:1.9.5.20) Gec...</td>\n",
       "      <td>Greene Inc</td>\n",
       "      <td>4139972901927273</td>\n",
       "      <td>02/19</td>\n",
       "      <td>302</td>\n",
       "      <td>JCB 15 digit</td>\n",
       "      <td>rachelford@vaughn.com</td>\n",
       "      <td>Embryologist, clinical</td>\n",
       "      <td>176.119.198.199</td>\n",
       "      <td>el</td>\n",
       "      <td>67.59</td>\n",
       "    </tr>\n",
       "  </tbody>\n",
       "</table>\n",
       "</div>"
      ],
      "text/plain": [
       "                                                Address    Lot AM or PM  \\\n",
       "9990  75731 Molly Springs\\nWest Danielle, VT 96934-5102  93 ty       PM   \n",
       "9991              PSC 8165, Box 8498\\nAPO AP 60327-0346  50 dA       AM   \n",
       "9992  885 Allen Mountains Apt. 230\\nWallhaven, LA 16995  40 vH       PM   \n",
       "9993  7555 Larson Locks Suite 229\\nEllisburgh, MA 34...  72 jg       PM   \n",
       "9994       6276 Rojas Hollow\\nLake Louis, WY 56410-7837  93 Ex       PM   \n",
       "9995      966 Castaneda Locks\\nWest Juliafurt, CO 96415  92 XI       PM   \n",
       "9996  832 Curtis Dam Suite 785\\nNorth Edwardburgh, T...  41 JY       AM   \n",
       "9997              Unit 4434 Box 6343\\nDPO AE 28026-0283  74 Zh       AM   \n",
       "9998               0096 English Rest\\nRoystad, IA 12457  74 cL       PM   \n",
       "9999     40674 Barrett Stravenue\\nGrimesville, WI 79682  64 Hr       AM   \n",
       "\n",
       "                                           Browser Info  \\\n",
       "9990  Mozilla/5.0 (Macintosh; Intel Mac OS X 10_7_4;...   \n",
       "9991  Mozilla/5.0 (compatible; MSIE 8.0; Windows NT ...   \n",
       "9992  Mozilla/5.0 (Macintosh; PPC Mac OS X 10_6_5) A...   \n",
       "9993  Mozilla/5.0 (Macintosh; U; Intel Mac OS X 10_8...   \n",
       "9994  Opera/9.68.(X11; Linux x86_64; sl-SI) Presto/2...   \n",
       "9995  Mozilla/5.0 (Windows NT 5.1) AppleWebKit/5352 ...   \n",
       "9996  Mozilla/5.0 (compatible; MSIE 9.0; Windows NT ...   \n",
       "9997  Mozilla/5.0 (Macintosh; U; Intel Mac OS X 10_7...   \n",
       "9998  Mozilla/5.0 (Macintosh; Intel Mac OS X 10_8_8;...   \n",
       "9999  Mozilla/5.0 (X11; Linux i686; rv:1.9.5.20) Gec...   \n",
       "\n",
       "                         Company       Credit Card CC Exp Date  \\\n",
       "9990  Pace, Vazquez and Richards   869968197049750       04/24   \n",
       "9991                  Snyder Inc  4221582137197481       02/24   \n",
       "9992                   Wells Ltd  4664825258997302       10/20   \n",
       "9993              Colon and Sons    30025560104631       10/25   \n",
       "9994                Ritter-Smith  3112186784121077       01/25   \n",
       "9995               Randall-Sloan   342945015358701       03/22   \n",
       "9996    Hale, Collins and Wilson   210033169205009       07/25   \n",
       "9997                Anderson Ltd  6011539787356311       05/21   \n",
       "9998                    Cook Inc   180003348082930       11/17   \n",
       "9999                  Greene Inc  4139972901927273       02/19   \n",
       "\n",
       "      CC Security Code       CC Provider                        Email  \\\n",
       "9990               877      JCB 15 digit  andersonmichael@sherman.biz   \n",
       "9991               969           Voyager           kking@wise-liu.com   \n",
       "9992               431          Discover            bberry@wright.net   \n",
       "9993               629           Maestro    chelseawilliams@lopez.biz   \n",
       "9994              1823           Maestro           iroberts@gmail.com   \n",
       "9995               838      JCB 15 digit       iscott@wade-garner.com   \n",
       "9996               207      JCB 16 digit           mary85@hotmail.com   \n",
       "9997                 1     VISA 16 digit            tyler16@gmail.com   \n",
       "9998               987  American Express      elizabethmoore@reid.net   \n",
       "9999               302      JCB 15 digit        rachelford@vaughn.com   \n",
       "\n",
       "                               Job       IP Address Language  Purchase Price  \n",
       "9990           Early years teacher     54.170.3.185       ru           18.35  \n",
       "9991         IT sales professional    254.25.31.156       el           25.93  \n",
       "9992                  Set designer    174.173.51.32       de           67.96  \n",
       "9993  Designer, exhibition/display    177.46.82.128       el           65.61  \n",
       "9994     Education officer, museum    242.44.112.18       zh           31.85  \n",
       "9995                    Printmaker    29.73.197.114       it           82.21  \n",
       "9996               Energy engineer   121.133.168.51       pt           25.63  \n",
       "9997            Veterinary surgeon    156.210.0.254       el           83.98  \n",
       "9998      Local government officer     55.78.26.143       es           38.84  \n",
       "9999        Embryologist, clinical  176.119.198.199       el           67.59  "
      ]
     },
     "execution_count": 9,
     "metadata": {},
     "output_type": "execute_result"
    }
   ],
   "source": [
    "#Bottom 10\n",
    "data.tail(10)"
   ]
  },
  {
   "cell_type": "code",
   "execution_count": 10,
   "metadata": {
    "collapsed": true
   },
   "outputs": [
    {
     "data": {
      "text/plain": [
       "Address              object\n",
       "Lot                  object\n",
       "AM or PM             object\n",
       "Browser Info         object\n",
       "Company              object\n",
       "Credit Card           int64\n",
       "CC Exp Date          object\n",
       "CC Security Code      int64\n",
       "CC Provider          object\n",
       "Email                object\n",
       "Job                  object\n",
       "IP Address           object\n",
       "Language             object\n",
       "Purchase Price      float64\n",
       "dtype: object"
      ]
     },
     "execution_count": 10,
     "metadata": {},
     "output_type": "execute_result"
    }
   ],
   "source": [
    "#Check Dtypes\n",
    "data.dtypes"
   ]
  },
  {
   "cell_type": "code",
   "execution_count": 13,
   "metadata": {
    "collapsed": true
   },
   "outputs": [
    {
     "data": {
      "text/plain": [
       "Address             0\n",
       "Lot                 0\n",
       "AM or PM            0\n",
       "Browser Info        0\n",
       "Company             0\n",
       "Credit Card         0\n",
       "CC Exp Date         0\n",
       "CC Security Code    0\n",
       "CC Provider         0\n",
       "Email               0\n",
       "Job                 0\n",
       "IP Address          0\n",
       "Language            0\n",
       "Purchase Price      0\n",
       "dtype: int64"
      ]
     },
     "execution_count": 13,
     "metadata": {},
     "output_type": "execute_result"
    }
   ],
   "source": [
    "#Check NULLS\n",
    "data.isnull().sum()"
   ]
  },
  {
   "cell_type": "code",
   "execution_count": 14,
   "metadata": {
    "collapsed": true
   },
   "outputs": [
    {
     "data": {
      "text/plain": [
       "14"
      ]
     },
     "execution_count": 14,
     "metadata": {},
     "output_type": "execute_result"
    }
   ],
   "source": [
    "#How many rows and cols\n",
    "data.info()"
   ]
  },
  {
   "cell_type": "code",
   "execution_count": 26,
   "metadata": {},
   "outputs": [
    {
     "data": {
      "text/plain": [
       "9856    99.97\n",
       "Name: Purchase Price, dtype: float64"
      ]
     },
     "execution_count": 26,
     "metadata": {},
     "output_type": "execute_result"
    }
   ],
   "source": [
    "#Second Highest and lowest Purchase price\n",
    "high = data['Purchase Price'].drop_duplicates().nlargest(2)\n",
    "high.tail(1)"
   ]
  },
  {
   "cell_type": "code",
   "execution_count": 27,
   "metadata": {},
   "outputs": [
    {
     "data": {
      "text/plain": [
       "6863    0.01\n",
       "Name: Purchase Price, dtype: float64"
      ]
     },
     "execution_count": 27,
     "metadata": {},
     "output_type": "execute_result"
    }
   ],
   "source": [
    "Low = data['Purchase Price'].drop_duplicates().nsmallest(2)\n",
    "Low.tail(1)"
   ]
  },
  {
   "cell_type": "code",
   "execution_count": 31,
   "metadata": {},
   "outputs": [
    {
     "data": {
      "text/plain": [
       "1097"
      ]
     },
     "execution_count": 31,
     "metadata": {},
     "output_type": "execute_result"
    }
   ],
   "source": [
    "#people with 'fr' language\n",
    "len(data[data['Language']=='fr'])"
   ]
  },
  {
   "cell_type": "code",
   "execution_count": 34,
   "metadata": {},
   "outputs": [
    {
     "data": {
      "text/plain": [
       "984"
      ]
     },
     "execution_count": 34,
     "metadata": {},
     "output_type": "execute_result"
    }
   ],
   "source": [
    "#Check for Engineers\n",
    "len(data[data['Job'].str.contains('engineer', case= False)])"
   ]
  },
  {
   "cell_type": "code",
   "execution_count": 39,
   "metadata": {},
   "outputs": [
    {
     "data": {
      "text/plain": [
       "2    amymiller@morales-harrison.com\n",
       "Name: Email, dtype: object"
      ]
     },
     "execution_count": 39,
     "metadata": {},
     "output_type": "execute_result"
    }
   ],
   "source": [
    "#Check IP - get email\n",
    "data[data['IP Address']=='132.207.160.22']['Email']"
   ]
  },
  {
   "cell_type": "code",
   "execution_count": 48,
   "metadata": {},
   "outputs": [
    {
     "data": {
      "text/plain": [
       "405"
      ]
     },
     "execution_count": 48,
     "metadata": {},
     "output_type": "execute_result"
    }
   ],
   "source": [
    "#Mastercard and purchase above 50\n",
    "#data.columns\n",
    "len(data[(data['CC Provider']=='Mastercard') & (data['Purchase Price']>50)])"
   ]
  },
  {
   "cell_type": "code",
   "execution_count": 51,
   "metadata": {},
   "outputs": [
    {
     "data": {
      "text/plain": [
       "PM    5068\n",
       "AM    4932\n",
       "Name: AM or PM, dtype: int64"
      ]
     },
     "execution_count": 51,
     "metadata": {},
     "output_type": "execute_result"
    }
   ],
   "source": [
    "#Purchae during AM and PM\n",
    "data['AM or PM'].value_counts()"
   ]
  },
  {
   "cell_type": "code",
   "execution_count": 57,
   "metadata": {},
   "outputs": [
    {
     "data": {
      "text/plain": [
       "988"
      ]
     },
     "execution_count": 57,
     "metadata": {},
     "output_type": "execute_result"
    }
   ],
   "source": [
    "#Expires in 2020 CC\n",
    "len(data[data['CC Exp Date'].apply(lambda x:x[3:]=='20')])"
   ]
  },
  {
   "cell_type": "code",
   "execution_count": 65,
   "metadata": {},
   "outputs": [
    {
     "data": {
      "text/plain": [
       "hotmail.com     1638\n",
       "yahoo.com       1616\n",
       "gmail.com       1605\n",
       "smith.com         42\n",
       "williams.com      37\n",
       "Name: Email, dtype: int64"
      ]
     },
     "execution_count": 65,
     "metadata": {},
     "output_type": "execute_result"
    }
   ],
   "source": [
    "#popular email providers - Top 5\n",
    "data['Email'].apply(lambda x:x.split('@')[1]).value_counts().head()"
   ]
  },
  {
   "cell_type": "code",
   "execution_count": null,
   "metadata": {},
   "outputs": [],
   "source": []
  }
 ],
 "metadata": {
  "kernelspec": {
   "display_name": "Python 3",
   "language": "python",
   "name": "python3"
  },
  "language_info": {
   "codemirror_mode": {
    "name": "ipython",
    "version": 3
   },
   "file_extension": ".py",
   "mimetype": "text/x-python",
   "name": "python",
   "nbconvert_exporter": "python",
   "pygments_lexer": "ipython3",
   "version": "3.8.5"
  }
 },
 "nbformat": 4,
 "nbformat_minor": 4
}
